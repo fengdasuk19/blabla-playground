{
 "cells": [
  {
   "cell_type": "code",
   "execution_count": 2,
   "metadata": {
    "collapsed": true
   },
   "outputs": [],
   "source": [
    "# import modules\n",
    "\n",
    "from __future__ import absolute_import\n",
    "from __future__ import division\n",
    "from __future__ import print_function\n",
    "\n",
    "import itertools\n",
    "import os\n",
    "import urllib\n",
    "\n",
    "import pandas as pd\n",
    "import tensorflow as tf\n",
    "\n",
    "tf.logging.set_verbosity(tf.logging.INFO)"
   ]
  },
  {
   "cell_type": "code",
   "execution_count": 13,
   "metadata": {},
   "outputs": [
    {
     "name": "stdout",
     "output_type": "stream",
     "text": [
      "Datasets are ready.\n"
     ]
    }
   ],
   "source": [
    "# examine if datasets exist\n",
    "\n",
    "BOSTON_PATH = {}\n",
    "BOSTON_URL = {}\n",
    "\n",
    "BOSTON_PATH['TRAIN'] = 'boston_train.csv'\n",
    "BOSTON_URL['TRAIN'] = 'http://download.tensorflow.org/data/boston_train.csv'\n",
    "\n",
    "BOSTON_PATH['TEST'] = 'boston_test.csv'\n",
    "BOSTON_URL['TEST'] = 'http://download.tensorflow.org/data/boston_test.csv'\n",
    "\n",
    "BOSTON_PATH['PREDICT'] = 'boston_predict.csv'\n",
    "BOSTON_URL['PREDICT'] = 'http://download.tensorflow.org/data/boston_predict.csv'\n",
    "\n",
    "for dataname in ['TRAIN', 'TEST', 'PREDICT']:\n",
    "    if not os.path.exists(BOSTON_PATH[dataname]):\n",
    "        raw = urllib.urlopen(BOSTON_URL[dataname]).read()\n",
    "        with open(BOSTON_PATH[dataname], 'w') as f:\n",
    "            f.write(raw)\n",
    "\n",
    "print('Datasets are ready.')"
   ]
  },
  {
   "cell_type": "code",
   "execution_count": 14,
   "metadata": {},
   "outputs": [
    {
     "name": "stdout",
     "output_type": "stream",
     "text": [
      "Readidng from datasets successfully.\n"
     ]
    }
   ],
   "source": [
    "# read data from datasets\n",
    "\n",
    "COLUMNS = ['crim', 'zn', 'indus', 'nox', 'rm', 'age', 'dis', 'tax', 'ptratio', 'medv']\n",
    "FEATURES = COLUMNS[:-1]\n",
    "LABEL = COLUMNS[-1]\n",
    "\n",
    "[training_set, test_set, prediction_set]  = [\n",
    "    pd.read_csv(\n",
    "        BOSTON_PATH[dataname], \n",
    "        skipinitialspace=True, \n",
    "        skiprows=1, \n",
    "        names=COLUMNS\n",
    "    ) for dataname in ['TRAIN', 'TEST', 'PREDICT']\n",
    "]\n",
    "\n",
    "print('Readidng from datasets successfully.')"
   ]
  },
  {
   "cell_type": "code",
   "execution_count": 16,
   "metadata": {},
   "outputs": [
    {
     "name": "stdout",
     "output_type": "stream",
     "text": [
      "Feature columns created.\n"
     ]
    }
   ],
   "source": [
    "feature_cols = [tf.contrib.layers.real_valued_column(k) for k in FEATURES]\n",
    "\n",
    "print('Feature columns created.')"
   ]
  },
  {
   "cell_type": "code",
   "execution_count": 17,
   "metadata": {},
   "outputs": [
    {
     "name": "stdout",
     "output_type": "stream",
     "text": [
      "INFO:tensorflow:Using default config.\n",
      "INFO:tensorflow:Using config: {'_save_checkpoints_secs': 600, '_num_ps_replicas': 0, '_keep_checkpoint_max': 5, '_tf_random_seed': None, '_task_type': None, '_environment': 'local', '_is_chief': True, '_cluster_spec': <tensorflow.python.training.server_lib.ClusterSpec object at 0x7f75cea73190>, '_tf_config': gpu_options {\n",
      "  per_process_gpu_memory_fraction: 1.0\n",
      "}\n",
      ", '_task_id': 0, '_save_summary_steps': 100, '_save_checkpoints_steps': None, '_evaluation_master': '', '_keep_checkpoint_every_n_hours': 10000, '_master': ''}\n",
      "Model created.\n"
     ]
    }
   ],
   "source": [
    "regressor = tf.contrib.learn.DNNRegressor(\n",
    "    feature_columns=feature_cols, \n",
    "    hidden_units=[10, 10], \n",
    "    model_dir='/tmp/boston_model'\n",
    ")\n",
    "\n",
    "print('Model created.')"
   ]
  },
  {
   "cell_type": "code",
   "execution_count": 19,
   "metadata": {
    "collapsed": true
   },
   "outputs": [],
   "source": [
    "def my_input_fn(data_set):\n",
    "    feature_cols = {k: tf.constant(data_set[k].values)\n",
    "                   for k in FEATURES}\n",
    "    labels = tf.constant(data_set[LABEL].values)\n",
    "    \n",
    "    return feature_cols, labels"
   ]
  },
  {
   "cell_type": "code",
   "execution_count": 20,
   "metadata": {},
   "outputs": [
    {
     "name": "stdout",
     "output_type": "stream",
     "text": [
      "WARNING:tensorflow:Rank of input Tensor (1) should be the same as output_rank (2) for column. Will attempt to expand dims. It is highly recommended that you resize your input, as this behavior may change.\n",
      "WARNING:tensorflow:Rank of input Tensor (1) should be the same as output_rank (2) for column. Will attempt to expand dims. It is highly recommended that you resize your input, as this behavior may change.\n",
      "WARNING:tensorflow:Rank of input Tensor (1) should be the same as output_rank (2) for column. Will attempt to expand dims. It is highly recommended that you resize your input, as this behavior may change.\n",
      "WARNING:tensorflow:Rank of input Tensor (1) should be the same as output_rank (2) for column. Will attempt to expand dims. It is highly recommended that you resize your input, as this behavior may change.\n",
      "WARNING:tensorflow:Rank of input Tensor (1) should be the same as output_rank (2) for column. Will attempt to expand dims. It is highly recommended that you resize your input, as this behavior may change.\n",
      "WARNING:tensorflow:Rank of input Tensor (1) should be the same as output_rank (2) for column. Will attempt to expand dims. It is highly recommended that you resize your input, as this behavior may change.\n",
      "WARNING:tensorflow:Rank of input Tensor (1) should be the same as output_rank (2) for column. Will attempt to expand dims. It is highly recommended that you resize your input, as this behavior may change.\n",
      "WARNING:tensorflow:Rank of input Tensor (1) should be the same as output_rank (2) for column. Will attempt to expand dims. It is highly recommended that you resize your input, as this behavior may change.\n",
      "WARNING:tensorflow:Rank of input Tensor (1) should be the same as output_rank (2) for column. Will attempt to expand dims. It is highly recommended that you resize your input, as this behavior may change.\n",
      "WARNING:tensorflow:From /home/sushangjun/.conda/envs/py2/lib/python2.7/site-packages/tensorflow/contrib/learn/python/learn/estimators/head.py:1362: scalar_summary (from tensorflow.python.ops.logging_ops) is deprecated and will be removed after 2016-11-30.\n",
      "Instructions for updating:\n",
      "Please switch to tf.summary.scalar. Note that tf.summary.scalar uses the node name instead of the tag. This means that TensorFlow will automatically de-duplicate summary names based on the scope they are created in. Also, passing a tensor or list of tags to a scalar summary op is no longer supported.\n",
      "INFO:tensorflow:Create CheckpointSaverHook.\n",
      "INFO:tensorflow:Saving checkpoints for 1 into /tmp/boston_model/model.ckpt.\n",
      "INFO:tensorflow:loss = 22421.2, step = 1\n",
      "INFO:tensorflow:global_step/sec: 1569.27\n",
      "INFO:tensorflow:loss = 101.081, step = 101\n",
      "INFO:tensorflow:global_step/sec: 1692.45\n",
      "INFO:tensorflow:loss = 86.4818, step = 201\n",
      "INFO:tensorflow:global_step/sec: 1681.58\n",
      "INFO:tensorflow:loss = 83.0368, step = 301\n",
      "INFO:tensorflow:global_step/sec: 1558.7\n",
      "INFO:tensorflow:loss = 81.087, step = 401\n",
      "INFO:tensorflow:global_step/sec: 1704.95\n",
      "INFO:tensorflow:loss = 79.5846, step = 501\n",
      "INFO:tensorflow:global_step/sec: 1648.96\n",
      "INFO:tensorflow:loss = 78.2834, step = 601\n",
      "INFO:tensorflow:global_step/sec: 1705.17\n",
      "INFO:tensorflow:loss = 77.0843, step = 701\n",
      "INFO:tensorflow:global_step/sec: 1697.13\n",
      "INFO:tensorflow:loss = 75.8985, step = 801\n",
      "INFO:tensorflow:global_step/sec: 1726.07\n",
      "INFO:tensorflow:loss = 74.3943, step = 901\n",
      "INFO:tensorflow:global_step/sec: 1630.05\n",
      "INFO:tensorflow:loss = 72.4346, step = 1001\n",
      "INFO:tensorflow:global_step/sec: 1628.72\n",
      "INFO:tensorflow:loss = 72.5858, step = 1101\n",
      "INFO:tensorflow:global_step/sec: 1723.37\n",
      "INFO:tensorflow:loss = 69.4715, step = 1201\n",
      "INFO:tensorflow:global_step/sec: 1683.55\n",
      "INFO:tensorflow:loss = 68.2765, step = 1301\n",
      "INFO:tensorflow:global_step/sec: 1638.76\n",
      "INFO:tensorflow:loss = 67.0427, step = 1401\n",
      "INFO:tensorflow:global_step/sec: 1594.87\n",
      "INFO:tensorflow:loss = 65.4823, step = 1501\n",
      "INFO:tensorflow:global_step/sec: 1668.39\n",
      "INFO:tensorflow:loss = 64.8887, step = 1601\n",
      "INFO:tensorflow:global_step/sec: 1610.1\n",
      "INFO:tensorflow:loss = 62.6745, step = 1701\n",
      "INFO:tensorflow:global_step/sec: 1620.4\n",
      "INFO:tensorflow:loss = 61.5433, step = 1801\n",
      "INFO:tensorflow:global_step/sec: 1698.98\n",
      "INFO:tensorflow:loss = 61.2629, step = 1901\n",
      "INFO:tensorflow:global_step/sec: 1632.28\n",
      "INFO:tensorflow:loss = 59.4309, step = 2001\n",
      "INFO:tensorflow:global_step/sec: 1626.76\n",
      "INFO:tensorflow:loss = 57.84, step = 2101\n",
      "INFO:tensorflow:global_step/sec: 1608.78\n",
      "INFO:tensorflow:loss = 55.7942, step = 2201\n",
      "INFO:tensorflow:global_step/sec: 1657.05\n",
      "INFO:tensorflow:loss = 55.0588, step = 2301\n",
      "INFO:tensorflow:global_step/sec: 1593.3\n",
      "INFO:tensorflow:loss = 54.6151, step = 2401\n",
      "INFO:tensorflow:global_step/sec: 1616.35\n",
      "INFO:tensorflow:loss = 51.8112, step = 2501\n",
      "INFO:tensorflow:global_step/sec: 1691.02\n",
      "INFO:tensorflow:loss = 51.1938, step = 2601\n",
      "INFO:tensorflow:global_step/sec: 1744.46\n",
      "INFO:tensorflow:loss = 50.4647, step = 2701\n",
      "INFO:tensorflow:global_step/sec: 1658.84\n",
      "INFO:tensorflow:loss = 48.8563, step = 2801\n",
      "INFO:tensorflow:global_step/sec: 1698.66\n",
      "INFO:tensorflow:loss = 48.2583, step = 2901\n",
      "INFO:tensorflow:global_step/sec: 1708.29\n",
      "INFO:tensorflow:loss = 47.0166, step = 3001\n",
      "INFO:tensorflow:global_step/sec: 1692.48\n",
      "INFO:tensorflow:loss = 46.1248, step = 3101\n",
      "INFO:tensorflow:global_step/sec: 1654.86\n",
      "INFO:tensorflow:loss = 44.9402, step = 3201\n",
      "INFO:tensorflow:global_step/sec: 1731.22\n",
      "INFO:tensorflow:loss = 44.422, step = 3301\n",
      "INFO:tensorflow:global_step/sec: 1653.46\n",
      "INFO:tensorflow:loss = 43.4826, step = 3401\n",
      "INFO:tensorflow:global_step/sec: 1572.97\n",
      "INFO:tensorflow:loss = 42.8024, step = 3501\n",
      "INFO:tensorflow:global_step/sec: 1670.15\n",
      "INFO:tensorflow:loss = 42.1207, step = 3601\n",
      "INFO:tensorflow:global_step/sec: 1608.28\n",
      "INFO:tensorflow:loss = 41.4256, step = 3701\n",
      "INFO:tensorflow:global_step/sec: 1693.8\n",
      "INFO:tensorflow:loss = 40.7928, step = 3801\n",
      "INFO:tensorflow:global_step/sec: 1691.56\n",
      "INFO:tensorflow:loss = 40.3032, step = 3901\n",
      "INFO:tensorflow:global_step/sec: 1718.86\n",
      "INFO:tensorflow:loss = 40.1094, step = 4001\n",
      "INFO:tensorflow:global_step/sec: 1738.74\n",
      "INFO:tensorflow:loss = 39.0289, step = 4101\n",
      "INFO:tensorflow:global_step/sec: 1615.12\n",
      "INFO:tensorflow:loss = 38.379, step = 4201\n",
      "INFO:tensorflow:global_step/sec: 1676.16\n",
      "INFO:tensorflow:loss = 38.2735, step = 4301\n",
      "INFO:tensorflow:global_step/sec: 1685.43\n",
      "INFO:tensorflow:loss = 38.1962, step = 4401\n",
      "INFO:tensorflow:global_step/sec: 1739.01\n",
      "INFO:tensorflow:loss = 37.7441, step = 4501\n",
      "INFO:tensorflow:global_step/sec: 1737.83\n",
      "INFO:tensorflow:loss = 37.7534, step = 4601\n",
      "INFO:tensorflow:global_step/sec: 1582.91\n",
      "INFO:tensorflow:loss = 36.805, step = 4701\n",
      "INFO:tensorflow:global_step/sec: 1688.99\n",
      "INFO:tensorflow:loss = 36.6006, step = 4801\n",
      "INFO:tensorflow:global_step/sec: 1713.5\n",
      "INFO:tensorflow:loss = 36.3828, step = 4901\n",
      "INFO:tensorflow:Saving checkpoints for 5000 into /tmp/boston_model/model.ckpt.\n",
      "INFO:tensorflow:Loss for final step: 36.0338.\n"
     ]
    },
    {
     "data": {
      "text/plain": [
       "DNNRegressor(params={'head': <tensorflow.contrib.learn.python.learn.estimators.head._RegressionHead object at 0x7f75cea73110>, 'hidden_units': [10, 10], 'feature_columns': (_RealValuedColumn(column_name='crim', dimension=1, default_value=None, dtype=tf.float32, normalizer=None), _RealValuedColumn(column_name='zn', dimension=1, default_value=None, dtype=tf.float32, normalizer=None), _RealValuedColumn(column_name='indus', dimension=1, default_value=None, dtype=tf.float32, normalizer=None), _RealValuedColumn(column_name='nox', dimension=1, default_value=None, dtype=tf.float32, normalizer=None), _RealValuedColumn(column_name='rm', dimension=1, default_value=None, dtype=tf.float32, normalizer=None), _RealValuedColumn(column_name='age', dimension=1, default_value=None, dtype=tf.float32, normalizer=None), _RealValuedColumn(column_name='dis', dimension=1, default_value=None, dtype=tf.float32, normalizer=None), _RealValuedColumn(column_name='tax', dimension=1, default_value=None, dtype=tf.float32, normalizer=None), _RealValuedColumn(column_name='ptratio', dimension=1, default_value=None, dtype=tf.float32, normalizer=None)), 'embedding_lr_multipliers': None, 'optimizer': None, 'dropout': None, 'gradient_clip_norm': None, 'activation_fn': <function relu at 0x7f75d29150c8>, 'input_layer_min_slice_size': None})"
      ]
     },
     "execution_count": 20,
     "metadata": {},
     "output_type": "execute_result"
    }
   ],
   "source": [
    "stepsNow = 5000\n",
    "regressor.fit(input_fn=lambda: my_input_fn(training_set), steps=stepsNow)"
   ]
  },
  {
   "cell_type": "code",
   "execution_count": 21,
   "metadata": {},
   "outputs": [
    {
     "name": "stdout",
     "output_type": "stream",
     "text": [
      "WARNING:tensorflow:Rank of input Tensor (1) should be the same as output_rank (2) for column. Will attempt to expand dims. It is highly recommended that you resize your input, as this behavior may change.\n",
      "WARNING:tensorflow:Rank of input Tensor (1) should be the same as output_rank (2) for column. Will attempt to expand dims. It is highly recommended that you resize your input, as this behavior may change.\n",
      "WARNING:tensorflow:Rank of input Tensor (1) should be the same as output_rank (2) for column. Will attempt to expand dims. It is highly recommended that you resize your input, as this behavior may change.\n",
      "WARNING:tensorflow:Rank of input Tensor (1) should be the same as output_rank (2) for column. Will attempt to expand dims. It is highly recommended that you resize your input, as this behavior may change.\n",
      "WARNING:tensorflow:Rank of input Tensor (1) should be the same as output_rank (2) for column. Will attempt to expand dims. It is highly recommended that you resize your input, as this behavior may change.\n",
      "WARNING:tensorflow:Rank of input Tensor (1) should be the same as output_rank (2) for column. Will attempt to expand dims. It is highly recommended that you resize your input, as this behavior may change.\n",
      "WARNING:tensorflow:Rank of input Tensor (1) should be the same as output_rank (2) for column. Will attempt to expand dims. It is highly recommended that you resize your input, as this behavior may change.\n",
      "WARNING:tensorflow:Rank of input Tensor (1) should be the same as output_rank (2) for column. Will attempt to expand dims. It is highly recommended that you resize your input, as this behavior may change.\n",
      "WARNING:tensorflow:Rank of input Tensor (1) should be the same as output_rank (2) for column. Will attempt to expand dims. It is highly recommended that you resize your input, as this behavior may change.\n",
      "WARNING:tensorflow:From /home/sushangjun/.conda/envs/py2/lib/python2.7/site-packages/tensorflow/contrib/learn/python/learn/estimators/head.py:1362: scalar_summary (from tensorflow.python.ops.logging_ops) is deprecated and will be removed after 2016-11-30.\n",
      "Instructions for updating:\n",
      "Please switch to tf.summary.scalar. Note that tf.summary.scalar uses the node name instead of the tag. This means that TensorFlow will automatically de-duplicate summary names based on the scope they are created in. Also, passing a tensor or list of tags to a scalar summary op is no longer supported.\n",
      "INFO:tensorflow:Starting evaluation at 2017-04-23-10:43:49\n",
      "INFO:tensorflow:Evaluation [1/1]\n",
      "INFO:tensorflow:Finished evaluation at 2017-04-23-10:43:49\n",
      "INFO:tensorflow:Saving dict for global step 5000: global_step = 5000, loss = 16.8024\n",
      "WARNING:tensorflow:Skipping summary for global_step, must be a float or np.float32.\n",
      "Loss: 16.802423\n"
     ]
    }
   ],
   "source": [
    "stepsNow = 1\n",
    "ev = regressor.evaluate(input_fn=lambda: my_input_fn(test_set), steps=stepsNow)\n",
    "loss_score = ev['loss']\n",
    "print('Loss: {0:f}'.format(loss_score))"
   ]
  },
  {
   "cell_type": "code",
   "execution_count": 22,
   "metadata": {},
   "outputs": [
    {
     "name": "stdout",
     "output_type": "stream",
     "text": [
      "WARNING:tensorflow:Rank of input Tensor (1) should be the same as output_rank (2) for column. Will attempt to expand dims. It is highly recommended that you resize your input, as this behavior may change.\n",
      "WARNING:tensorflow:Rank of input Tensor (1) should be the same as output_rank (2) for column. Will attempt to expand dims. It is highly recommended that you resize your input, as this behavior may change.\n",
      "WARNING:tensorflow:Rank of input Tensor (1) should be the same as output_rank (2) for column. Will attempt to expand dims. It is highly recommended that you resize your input, as this behavior may change.\n",
      "WARNING:tensorflow:Rank of input Tensor (1) should be the same as output_rank (2) for column. Will attempt to expand dims. It is highly recommended that you resize your input, as this behavior may change.\n",
      "WARNING:tensorflow:Rank of input Tensor (1) should be the same as output_rank (2) for column. Will attempt to expand dims. It is highly recommended that you resize your input, as this behavior may change.\n",
      "WARNING:tensorflow:Rank of input Tensor (1) should be the same as output_rank (2) for column. Will attempt to expand dims. It is highly recommended that you resize your input, as this behavior may change.\n",
      "WARNING:tensorflow:Rank of input Tensor (1) should be the same as output_rank (2) for column. Will attempt to expand dims. It is highly recommended that you resize your input, as this behavior may change.\n",
      "WARNING:tensorflow:Rank of input Tensor (1) should be the same as output_rank (2) for column. Will attempt to expand dims. It is highly recommended that you resize your input, as this behavior may change.\n",
      "WARNING:tensorflow:Rank of input Tensor (1) should be the same as output_rank (2) for column. Will attempt to expand dims. It is highly recommended that you resize your input, as this behavior may change.\n",
      "Predictions: [33.710159, 18.039553, 22.329962, 33.062084, 12.897905, 18.934099]\n"
     ]
    }
   ],
   "source": [
    "# make predictions\n",
    "\n",
    "y = regressor.predict(input_fn=lambda: my_input_fn(prediction_set))\n",
    "predictions = list(itertools.islice(y, 6))\n",
    "print('Predictions: {}'.format(str(predictions)))"
   ]
  },
  {
   "cell_type": "code",
   "execution_count": null,
   "metadata": {
    "collapsed": true
   },
   "outputs": [],
   "source": []
  }
 ],
 "metadata": {
  "kernelspec": {
   "display_name": "Python 2",
   "language": "python",
   "name": "python2"
  },
  "language_info": {
   "codemirror_mode": {
    "name": "ipython",
    "version": 2
   },
   "file_extension": ".py",
   "mimetype": "text/x-python",
   "name": "python",
   "nbconvert_exporter": "python",
   "pygments_lexer": "ipython2",
   "version": "2.7.13"
  }
 },
 "nbformat": 4,
 "nbformat_minor": 2
}
